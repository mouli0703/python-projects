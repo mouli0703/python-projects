{
 "cells": [
  {
   "cell_type": "markdown",
   "id": "bdbe7afc-eb5c-4445-96a6-98212f7ed177",
   "metadata": {},
   "source": [
    "# main page"
   ]
  },
  {
   "cell_type": "code",
   "execution_count": 52,
   "id": "44067707-1004-4fdd-8988-3ed19fb5aaf1",
   "metadata": {},
   "outputs": [],
   "source": [
    "def main():\n",
    "    print ('welcome to EB calculator page'.center(75))\n",
    "    for i in range(1,4):\n",
    "        a=int(input('''\n",
    "        1=register with a new username\n",
    "        2=login with existing username\n",
    "        3=exit'''))\n",
    "        if a==1:\n",
    "            register()\n",
    "            break\n",
    "        elif a==2:\n",
    "            login()\n",
    "            break\n",
    "        elif a==3:\n",
    "            break\n",
    "        else:\n",
    "            if i<3:\n",
    "             print('invalid selection,select any available option')\n",
    "            print(f'only{3-i}chances left')\n",
    "    else:\n",
    "                print('3 chances exceeded,start again')\n",
    "                main()\n",
    "            \n",
    "def login():\n",
    "    print('you are in login page')"
   ]
  },
  {
   "cell_type": "code",
   "execution_count": 27,
   "id": "bb0ed3a8-018b-4870-a9cb-91151177677b",
   "metadata": {},
   "outputs": [
    {
     "name": "stdout",
     "output_type": "stream",
     "text": [
      "                       welcome to EB calculator page                       \n"
     ]
    },
    {
     "name": "stdin",
     "output_type": "stream",
     "text": [
      "\n",
      "        1=register with a new username\n",
      "        2=login with existing username\n",
      "        3=exit 1\n"
     ]
    },
    {
     "name": "stdout",
     "output_type": "stream",
     "text": [
      "                    Welcome to EB Calculator - Register                    \n"
     ]
    },
    {
     "name": "stdin",
     "output_type": "stream",
     "text": [
      "Enter your name:  hello\n",
      "Enter your mobile number:  1\n",
      "Enter your email:  1\n",
      "Set password:  123\n"
     ]
    },
    {
     "name": "stdout",
     "output_type": "stream",
     "text": [
      "Registration successful.\n"
     ]
    },
    {
     "name": "stdin",
     "output_type": "stream",
     "text": [
      "\n",
      "1. Register with a new username\n",
      "2. Login with an existing username\n",
      "3. Exit\n",
      "Select an option:  2\n"
     ]
    },
    {
     "name": "stdout",
     "output_type": "stream",
     "text": [
      "you are in login page\n"
     ]
    }
   ],
   "source": [
    "main()"
   ]
  },
  {
   "cell_type": "markdown",
   "id": "06331d67-918f-45b1-b9c1-bf6ef11a88c2",
   "metadata": {},
   "source": [
    "# Register page"
   ]
  },
  {
   "cell_type": "code",
   "execution_count": 53,
   "id": "b3a43728-f2d3-4773-9eda-477233321470",
   "metadata": {},
   "outputs": [],
   "source": [
    "\n",
    "def register():\n",
    "    print('Welcome to EB Calculator - Register'.center(75))\n",
    "    name = input('Enter your name: ')\n",
    "    if name in data:\n",
    "        print('Username already exists.')\n",
    "        for i in range(1, 4):\n",
    "            option = input('''\n",
    "1. Register with a new username\n",
    "2. Login with an existing username\n",
    "3. Exit\n",
    "Select an option: ''')\n",
    "            if option == '1':\n",
    "                register()\n",
    "                break\n",
    "            elif option == '2':\n",
    "                login()\n",
    "                break\n",
    "            elif option == '3':\n",
    "                break\n",
    "            else:\n",
    "                print('Invalid selection.')\n",
    "                if i < 3:\n",
    "                    print(f'Only {3-i} chances left.')\n",
    "                else:\n",
    "                    print('3 chances exceeded, goodbye.')\n",
    "    else:\n",
    "        mobile = input('Enter your mobile number: ')\n",
    "        email = input('Enter your email: ')\n",
    "        password = input('Set password: ')\n",
    "        data[name]={}\n",
    "        data[name]['PI']={}\n",
    "        data[name]['PI']['name']=name\n",
    "        data[name]['PI']['mobile']=mobile\n",
    "        data[name]['PI']['email']=email\n",
    "        data[name]['PI']['password']=password\n",
    "        print('Registration successful.')\n",
    "        data[name]['EB_bills']={}\n",
    "        for i in range(1, 4):\n",
    "            option = input('''\n",
    "1. Register with a new username\n",
    "2. Login with an existing username\n",
    "3. Exit\n",
    "Select an option: ''')\n",
    "            if option == '1':\n",
    "                register()\n",
    "                break\n",
    "            elif option == '2':\n",
    "                login()\n",
    "                break\n",
    "            elif option == '3':\n",
    "                break\n",
    "            else:\n",
    "                print('Invalid selection.')\n",
    "                if i < 3:\n",
    "                    print(f'Only {3-i} chances left.')\n",
    "                else:\n",
    "                    print('3 chances exceeded, start again.')\n",
    "                    main()\n",
    "\n",
    "def login():\n",
    "    print('You are in the login page.')\n"
   ]
  },
  {
   "cell_type": "code",
   "execution_count": 40,
   "id": "809b1ec4-2aa9-4b3f-9302-f25046ae92aa",
   "metadata": {},
   "outputs": [
    {
     "name": "stdout",
     "output_type": "stream",
     "text": [
      "                    Welcome to EB Calculator - Register                    \n"
     ]
    },
    {
     "name": "stdin",
     "output_type": "stream",
     "text": [
      "Enter your name:  hello\n",
      "Enter your mobile number:  1\n",
      "Enter your email:  1\n",
      "Set password:  111\n"
     ]
    },
    {
     "name": "stdout",
     "output_type": "stream",
     "text": [
      "Registration successful.\n"
     ]
    },
    {
     "name": "stdin",
     "output_type": "stream",
     "text": [
      "\n",
      "1. Register with a new username\n",
      "2. Login with an existing username\n",
      "3. Exit\n",
      "Select an option:  2\n",
      "enter username: hello\n",
      "enter password: 111\n"
     ]
    },
    {
     "name": "stdout",
     "output_type": "stream",
     "text": [
      "login successful\n"
     ]
    },
    {
     "name": "stdin",
     "output_type": "stream",
     "text": [
      "Select any option:\n",
      "      1 = EB bill calculator\n",
      "      2 = history\n",
      "      3 = view\n",
      "      4 = change info\n",
      "      5 = logout:  1\n"
     ]
    },
    {
     "name": "stdout",
     "output_type": "stream",
     "text": [
      "EB page\n"
     ]
    }
   ],
   "source": [
    "register()"
   ]
  },
  {
   "cell_type": "code",
   "execution_count": 56,
   "id": "59546ebf-6f48-469c-87d8-512053f7d05f",
   "metadata": {},
   "outputs": [
    {
     "data": {
      "text/plain": [
       "{'hello': {'PI': {'name': 'micky',\n",
       "   'mobile': '2',\n",
       "   'email': '1',\n",
       "   'password': '111'},\n",
       "  'EB_bills': {2020: {'jan': {'units': 111.0, 'bill': 243.0}}},\n",
       "  'password': '123'}}"
      ]
     },
     "execution_count": 56,
     "metadata": {},
     "output_type": "execute_result"
    }
   ],
   "source": [
    "data"
   ]
  },
  {
   "cell_type": "code",
   "execution_count": 57,
   "id": "1be08e7e-afdc-4d45-a312-be0cac1eabdd",
   "metadata": {},
   "outputs": [],
   "source": [
    "data={}"
   ]
  },
  {
   "cell_type": "markdown",
   "id": "0208b1fe-762f-4c34-8175-fbd8e0801967",
   "metadata": {},
   "source": [
    "# login page"
   ]
  },
  {
   "cell_type": "code",
   "execution_count": 54,
   "id": "7f36f55f-8d38-4054-a54a-f23e94a33f20",
   "metadata": {},
   "outputs": [],
   "source": [
    "def options(name):\n",
    "    print('you are in options page')"
   ]
  },
  {
   "cell_type": "code",
   "execution_count": 55,
   "id": "97155597-86ab-4993-9f50-9cf8355abda4",
   "metadata": {},
   "outputs": [],
   "source": [
    "def login():\n",
    "    name = input('enter username:')\n",
    "    if name in data.keys():\n",
    "            for i in range(1, 4):\n",
    "                password = input('enter password:')\n",
    "                if password == data[name]['PI']['password']:\n",
    "                    print('login successful')\n",
    "                    options(name)\n",
    "                    break\n",
    "                else:\n",
    "                    if i < 3:\n",
    "                        print('incorrect password')\n",
    "                        print(f'only {3 - i} chances left')\n",
    "                    else:\n",
    "                        print('3 chances exceeded, start again')\n",
    "                        main()\n",
    "    \n",
    "    else:\n",
    "        print('invalid user:')\n",
    "        for i in range(1, 4):\n",
    "            a = int(input('''\n",
    "            select an option:\n",
    "            1 = login with correct credentials\n",
    "            2 = register with a new username\n",
    "            3 = exit'''))\n",
    "            if a == 1:\n",
    "                login()\n",
    "                break\n",
    "            elif a == 2:\n",
    "                register()\n",
    "                break\n",
    "            elif a == 3:\n",
    "                break\n",
    "            else:\n",
    "                if i < 3:\n",
    "                    print('Invalid selection.')\n",
    "                    print(f'only {3 - i} chances left')\n",
    "                else:\n",
    "                    print('3 chances exceeded, start again')\n",
    "                    main()\n",
    "\n",
    "                        \n",
    "                    \n",
    "            \n",
    "                \n",
    "                    \n",
    "                        \n",
    "                    \n",
    "                \n",
    "            "
   ]
  },
  {
   "cell_type": "code",
   "execution_count": 37,
   "id": "3d79f3ef-aef0-40c8-9c73-58ab05174bd3",
   "metadata": {},
   "outputs": [
    {
     "name": "stdout",
     "output_type": "stream",
     "text": [
      "you are in login page\n"
     ]
    }
   ],
   "source": [
    "login()"
   ]
  },
  {
   "cell_type": "markdown",
   "id": "2510a92e-cd66-4fb0-aef6-3184bf8f70da",
   "metadata": {},
   "source": [
    "# options page"
   ]
  },
  {
   "cell_type": "code",
   "execution_count": 58,
   "id": "995d2eb7-4c7a-4193-bbdf-20851643ac6d",
   "metadata": {},
   "outputs": [],
   "source": [
    "  def EB(name):\n",
    "    print('EB page')\n",
    "\n",
    "def History(name):\n",
    "    print('History page')\n",
    "\n",
    "def view(name):\n",
    "    print('View page')\n",
    "\n",
    "def change_info(name):\n",
    "    print('Change info page')\n",
    "\n",
    "def main():\n",
    "    print('Main page')\n",
    "\n",
    "def options(name):\n",
    "    for i in range(1, 4):\n",
    "        a = int(input('''Select any option:\n",
    "        1 = EB bill calculator\n",
    "        2 = history\n",
    "        3 = view\n",
    "        4 = change info\n",
    "        5 = logout: '''))\n",
    "        if a == 1:\n",
    "            EB(name)\n",
    "            break\n",
    "        elif a == 2:\n",
    "            History(name)\n",
    "            break\n",
    "        elif a == 3:\n",
    "            view(name)\n",
    "            break\n",
    "        elif a == 4:\n",
    "            change_info(name)\n",
    "            break\n",
    "        elif a == 5:\n",
    "            main()\n",
    "            break\n",
    "        else:\n",
    "            if i < 3:\n",
    "                print('Invalid selection, select any available option')\n",
    "                print(f'Only {3 - i} chances left')\n",
    "            else:\n",
    "                print('3 chances exceeded, start again')\n",
    "                main()\n",
    "            \n",
    "        "
   ]
  },
  {
   "cell_type": "code",
   "execution_count": 59,
   "id": "c511cfae-b6ad-4c4f-b62f-1e355713d281",
   "metadata": {},
   "outputs": [
    {
     "name": "stdin",
     "output_type": "stream",
     "text": [
      "Select any option:\n",
      "      1 = EB bill calculator\n",
      "      2 = history\n",
      "      3 = view\n",
      "      4 = change info\n",
      "      5 = logout:  5\n"
     ]
    },
    {
     "name": "stdout",
     "output_type": "stream",
     "text": [
      "Main page\n"
     ]
    }
   ],
   "source": [
    "options('vicky')"
   ]
  },
  {
   "cell_type": "markdown",
   "id": "b206c788-7d41-4b36-a758-50a0ab192c8a",
   "metadata": {},
   "source": [
    "# EB page"
   ]
  },
  {
   "cell_type": "code",
   "execution_count": 60,
   "id": "39e2724f-bcaa-41a5-8843-4db5da5b4410",
   "metadata": {},
   "outputs": [],
   "source": [
    " def EB(name):\n",
    "    year = int(input('enter year:'))\n",
    "    m = {i: j for i, j in zip(range(1, 13), ['jan', 'feb', 'mar', 'apr', 'may', 'jun',\n",
    "                                             'jul', 'aug', 'sep', 'oct', 'nov', 'dec'])}\n",
    "    for i, j in m.items():\n",
    "        print(i, '=', j)\n",
    "    month = m[int(input('enter the month:'))]\n",
    "    units = float(input('enter total units consumed:'))\n",
    "    if units <= 100:\n",
    "        amt = 0\n",
    "        sur = 0\n",
    "    elif 100 < units <= 200:\n",
    "        amt = 0 + 200 + (units - 100) * 3\n",
    "        sur = 10\n",
    "    elif 200 < units <= 300:\n",
    "        amt = 0 + 200 + (units - 200) * 3\n",
    "        sur = 20\n",
    "    elif 300 < units <= 400:\n",
    "        amt = 0 + 200 + 300 + (units - 300) * 4\n",
    "        sur = 30\n",
    "    else:\n",
    "        amt = 0 + 200 + 300 + 400 + (units - 400) * 5\n",
    "        sur = 50\n",
    "\n",
    "    print(f'hello user, the total bill amount for using {units} units is rs. {amt + sur}')\n",
    "\n",
    "    if year in data[name]['EB_bills'].keys():\n",
    "        data[name]['EB_bills'][year][month] = {}\n",
    "        data[name]['EB_bills'][year][month]['units'] = units\n",
    "        data[name]['EB_bills'][year][month]['bill'] = amt + sur\n",
    "    else:\n",
    "        data[name]['EB_bills'][year] = {}\n",
    "        data[name]['EB_bills'][year][month] = {}\n",
    "        data[name]['EB_bills'][year][month]['units'] = units\n",
    "        data[name]['EB_bills'][year][month]['bill'] = amt + sur\n",
    "\n",
    "              "
   ]
  },
  {
   "cell_type": "code",
   "execution_count": 42,
   "id": "cdc2dbfb-25e6-4ef4-8cb5-ab9bd6d8fc0f",
   "metadata": {},
   "outputs": [
    {
     "name": "stdin",
     "output_type": "stream",
     "text": [
      "enter year: 2020\n"
     ]
    },
    {
     "name": "stdout",
     "output_type": "stream",
     "text": [
      "1 = jan\n",
      "2 = feb\n",
      "3 = mar\n",
      "4 = apr\n",
      "5 = may\n",
      "6 = jun\n",
      "7 = jul\n",
      "8 = aug\n",
      "9 = sep\n",
      "10 = oct\n",
      "11 = nov\n",
      "12 = dec\n"
     ]
    },
    {
     "name": "stdin",
     "output_type": "stream",
     "text": [
      "enter the month: 1\n",
      "enter total units consumed: 111\n"
     ]
    },
    {
     "name": "stdout",
     "output_type": "stream",
     "text": [
      "hello user, the total bill amount for using 111.0 units is rs. 243.0\n"
     ]
    }
   ],
   "source": [
    "EB('hello')"
   ]
  },
  {
   "cell_type": "markdown",
   "id": "cdb41617-4905-4d7d-9256-ead510dc2465",
   "metadata": {},
   "source": [
    "# HISTORY PAGE"
   ]
  },
  {
   "cell_type": "code",
   "execution_count": 61,
   "id": "c945367b-b331-4bff-8eeb-2632a80edc04",
   "metadata": {},
   "outputs": [],
   "source": [
    "def History(name):\n",
    "    for i in range(1, 4):\n",
    "        a = int(input('''select any option:\n",
    "        1 = complete history\n",
    "        2 = particular year\n",
    "        3 = particular month in particular year\n",
    "        4 = exit: '''))\n",
    "        \n",
    "        if a == 1:\n",
    "            for year in data[name]['EB_bills'].keys():\n",
    "                print('year =', year)\n",
    "                for month in data[name]['EB_bills'][year].keys():\n",
    "                    print(f'''\n",
    "                    ####################################\n",
    "                    month = {month}\n",
    "                    \n",
    "                    units = {data[name]['EB_bills'][year][month]['units']}\n",
    "                    amount = {data[name]['EB_bills'][year][month]['bill']}\n",
    "                    #######################################''')\n",
    "            options(name)\n",
    "            break\n",
    "            \n",
    "        elif a == 2:\n",
    "            for index, year in enumerate(data[name]['EB_bills'].keys(), 1):\n",
    "                print(index, '=', year)\n",
    "            year_map = {i: y for i, y in enumerate(data[name]['EB_bills'].keys(), 1)}\n",
    "            selected_year_index = int(input('Select year: '))\n",
    "            selected_year = year_map[selected_year_index]\n",
    "            \n",
    "            for month in data[name]['EB_bills'][selected_year].keys():\n",
    "                print(f'''\n",
    "                ####################################\n",
    "                month = {month}\n",
    "                \n",
    "                units = {data[name]['EB_bills'][selected_year][month]['units']}\n",
    "                amount = {data[name]['EB_bills'][selected_year][month]['bill']}\n",
    "                #######################################''')\n",
    "            options(name)\n",
    "            break\n",
    "            \n",
    "        elif a == 3:\n",
    "            for index, year in enumerate(data[name]['EB_bills'].keys(), 1):\n",
    "                print(index, '=', year)\n",
    "            year_map = {i: y for i, y in enumerate(data[name]['EB_bills'].keys(), 1)}\n",
    "            selected_year_index = int(input('Select year: '))\n",
    "            selected_year = year_map[selected_year_index]\n",
    "            \n",
    "            for index, month in enumerate(data[name]['EB_bills'][selected_year].keys(), 1):\n",
    "                print(index, '=', month)\n",
    "            month_map = {i: m for i, m in enumerate(data[name]['EB_bills'][selected_year].keys(), 1)}\n",
    "            selected_month_index = int(input('Select month: '))\n",
    "            selected_month = month_map[selected_month_index]\n",
    "            \n",
    "            print(f'''\n",
    "            ####################################\n",
    "            month = {selected_month}\n",
    "            \n",
    "            units = {data[name]['EB_bills'][selected_year][selected_month]['units']}\n",
    "            amount = {data[name]['EB_bills'][selected_year][selected_month]['bill']}\n",
    "            #######################################''')\n",
    "            options(name)\n",
    "            break\n",
    "            \n",
    "        elif a == 4:\n",
    "            main()\n",
    "            break\n",
    "            \n",
    "        else:\n",
    "            if i < 3:\n",
    "                print('invalid selection, select any available option')\n",
    "                print(f'only {3 - i} chances left')\n",
    "            else:\n",
    "                print('3 chances exceeded, start again')\n",
    "                main()\n"
   ]
  },
  {
   "cell_type": "code",
   "execution_count": 43,
   "id": "b5faa193-88ed-4caa-9261-704be0aac782",
   "metadata": {},
   "outputs": [
    {
     "name": "stdin",
     "output_type": "stream",
     "text": [
      "Select any option:\n",
      "      1 = EB bill calculator\n",
      "      2 = history\n",
      "      3 = view\n",
      "      4 = change info\n",
      "      5 = logout:  2\n"
     ]
    },
    {
     "name": "stdout",
     "output_type": "stream",
     "text": [
      "History page\n"
     ]
    }
   ],
   "source": [
    "options('hello')"
   ]
  },
  {
   "cell_type": "markdown",
   "id": "8f125331-f7bc-4699-9dda-99e9f0f552ba",
   "metadata": {},
   "source": [
    "# VIEW PAGE"
   ]
  },
  {
   "cell_type": "code",
   "execution_count": 62,
   "id": "c1d41f12-9bb2-442b-8d1a-74c07de00e2d",
   "metadata": {},
   "outputs": [],
   "source": [
    "  def view(name):\n",
    "    for i, j in data[name]['PI'].items():\n",
    "        print(i, '=', j)\n",
    "    \n",
    "    for i in range(1, 4):\n",
    "        a = int(input('''Select any option:\n",
    "        1 = change any information\n",
    "        2 = back to options\n",
    "        3 = logout: '''))\n",
    "        if a == 1:\n",
    "            change_info(name)\n",
    "            break\n",
    "        elif a == 2:\n",
    "            options(name)\n",
    "            break\n",
    "        elif a == 3:\n",
    "            main()\n",
    "            break\n",
    "        else:\n",
    "            if i < 3:\n",
    "                print('Invalid selection, select any available option')\n",
    "                print(f'Only {3 - i} chances left')\n",
    "            else:\n",
    "                print('3 chances exceeded, start again')\n",
    "                main()\n",
    "\n",
    "    "
   ]
  },
  {
   "cell_type": "code",
   "execution_count": 47,
   "id": "006398ae-1c4b-4c1b-8463-6529fea15bc8",
   "metadata": {},
   "outputs": [
    {
     "name": "stdout",
     "output_type": "stream",
     "text": [
      "name = hello\n",
      "mobile = 1\n",
      "email = 1\n",
      "password = 111\n"
     ]
    },
    {
     "name": "stdin",
     "output_type": "stream",
     "text": [
      "Select any option:\n",
      "      1 = change any information\n",
      "      2 = back to options\n",
      "      3 = logout:  3\n"
     ]
    },
    {
     "name": "stdout",
     "output_type": "stream",
     "text": [
      "Main page\n"
     ]
    }
   ],
   "source": [
    "view('hello')"
   ]
  },
  {
   "cell_type": "markdown",
   "id": "90e60206-7d2e-4ded-9de6-a8e0f5d6acfd",
   "metadata": {},
   "source": [
    "# Change_info"
   ]
  },
  {
   "cell_type": "code",
   "execution_count": 63,
   "id": "670259f8-aa4c-4574-9204-6fa37ff836ab",
   "metadata": {},
   "outputs": [],
   "source": [
    "def change_info(name):\n",
    "    for i in range(1, 4):\n",
    "        a = int(input('''Select any option:\n",
    "        1 = change name\n",
    "        2 = change mobile no\n",
    "        3 = change email id\n",
    "        4 = update password\n",
    "        5 = view personal info\n",
    "        6 = back to options\n",
    "        7 = logout: '''))\n",
    "        if a == 1:\n",
    "            data[name]['PI']['name'] = input('enter new name: ')\n",
    "            print('Name changed successfully')\n",
    "            change_info(name)\n",
    "            break\n",
    "        elif a == 2:\n",
    "            data[name]['PI']['mobile'] = str(int(input('enter new mobile no: ')))\n",
    "            print('Mobile no changed successfully')\n",
    "            change_info(name)\n",
    "            break\n",
    "        elif a == 3:\n",
    "            data[name]['PI']['email'] = input('enter new email id: ')\n",
    "            print('Email id changed successfully')\n",
    "            change_info(name)\n",
    "            break\n",
    "        elif a == 4:\n",
    "            pass1 = input('enter new password: ')\n",
    "            pass2 = input('confirm password: ')\n",
    "            if pass1 == pass2:\n",
    "                data[name]['password'] = pass2\n",
    "                print('Password changed successfully')\n",
    "            else:\n",
    "                print('Password not matched')\n",
    "            change_info(name)\n",
    "            break\n",
    "        elif a == 5: \n",
    "            view(name)\n",
    "            break\n",
    "        elif a == 6:\n",
    "            options(name)\n",
    "            break\n",
    "        elif a == 7: \n",
    "            main()\n",
    "            break\n",
    "        else:\n",
    "            if i < 3:\n",
    "                print('Invalid selection, select any available option')\n",
    "                print(f'Only {3 - i} chances left')\n",
    "            else:\n",
    "                print('3 chances exceeded, start again')\n",
    "                main()\n"
   ]
  },
  {
   "cell_type": "code",
   "execution_count": 51,
   "id": "83b3908d-e287-426c-8cd0-c4821ec865f2",
   "metadata": {},
   "outputs": [
    {
     "name": "stdin",
     "output_type": "stream",
     "text": [
      "Select any option:\n",
      "        1 = change name\n",
      "        2 = change mobile no\n",
      "        3 = change email id\n",
      "        4 = update password\n",
      "        5 = view personal info\n",
      "        6 = back to options\n",
      "        7 = logout:  1\n",
      "enter new name:  micky\n"
     ]
    },
    {
     "name": "stdout",
     "output_type": "stream",
     "text": [
      "Name changed successfully\n"
     ]
    },
    {
     "name": "stdin",
     "output_type": "stream",
     "text": [
      "Select any option:\n",
      "        1 = change name\n",
      "        2 = change mobile no\n",
      "        3 = change email id\n",
      "        4 = update password\n",
      "        5 = view personal info\n",
      "        6 = back to options\n",
      "        7 = logout:  2\n",
      "enter new mobile no:  2\n"
     ]
    },
    {
     "name": "stdout",
     "output_type": "stream",
     "text": [
      "Mobile no changed successfully\n"
     ]
    },
    {
     "name": "stdin",
     "output_type": "stream",
     "text": [
      "Select any option:\n",
      "        1 = change name\n",
      "        2 = change mobile no\n",
      "        3 = change email id\n",
      "        4 = update password\n",
      "        5 = view personal info\n",
      "        6 = back to options\n",
      "        7 = logout:  3\n",
      "enter new email id:  1\n"
     ]
    },
    {
     "name": "stdout",
     "output_type": "stream",
     "text": [
      "Email id changed successfully\n"
     ]
    },
    {
     "name": "stdin",
     "output_type": "stream",
     "text": [
      "Select any option:\n",
      "        1 = change name\n",
      "        2 = change mobile no\n",
      "        3 = change email id\n",
      "        4 = update password\n",
      "        5 = view personal info\n",
      "        6 = back to options\n",
      "        7 = logout:  4\n",
      "enter new password:  123\n",
      "confirm password:  123\n"
     ]
    },
    {
     "name": "stdout",
     "output_type": "stream",
     "text": [
      "Password changed successfully\n"
     ]
    },
    {
     "name": "stdin",
     "output_type": "stream",
     "text": [
      "Select any option:\n",
      "        1 = change name\n",
      "        2 = change mobile no\n",
      "        3 = change email id\n",
      "        4 = update password\n",
      "        5 = view personal info\n",
      "        6 = back to options\n",
      "        7 = logout:  5\n"
     ]
    },
    {
     "name": "stdout",
     "output_type": "stream",
     "text": [
      "name = micky\n",
      "mobile = 2\n",
      "email = 1\n",
      "password = 111\n"
     ]
    },
    {
     "name": "stdin",
     "output_type": "stream",
     "text": [
      "Select any option:\n",
      "      1 = change any information\n",
      "      2 = back to options\n",
      "      3 = logout:  2\n",
      "Select any option:\n",
      "      1 = EB bill calculator\n",
      "      2 = history\n",
      "      3 = view\n",
      "      4 = change info\n",
      "      5 = logout:  2\n",
      "select any option:\n",
      "        1 = complete history\n",
      "        2 = particular year\n",
      "        3 = particular month in particular year\n",
      "        4 = exit:  1\n"
     ]
    },
    {
     "name": "stdout",
     "output_type": "stream",
     "text": [
      "year = 2020\n",
      "\n",
      "                    ####################################\n",
      "                    month = jan\n",
      "                    \n",
      "                    units = 111.0\n",
      "                    amount = 243.0\n",
      "                    #######################################\n"
     ]
    },
    {
     "name": "stdin",
     "output_type": "stream",
     "text": [
      "Select any option:\n",
      "      1 = EB bill calculator\n",
      "      2 = history\n",
      "      3 = view\n",
      "      4 = change info\n",
      "      5 = logout:  5\n"
     ]
    },
    {
     "name": "stdout",
     "output_type": "stream",
     "text": [
      "Main page\n"
     ]
    }
   ],
   "source": [
    "change_info('hello')"
   ]
  },
  {
   "cell_type": "code",
   "execution_count": null,
   "id": "60a92149-8bdd-4b8a-a893-efd97d514b4f",
   "metadata": {},
   "outputs": [],
   "source": []
  }
 ],
 "metadata": {
  "kernelspec": {
   "display_name": "Python 3 (ipykernel)",
   "language": "python",
   "name": "python3"
  },
  "language_info": {
   "codemirror_mode": {
    "name": "ipython",
    "version": 3
   },
   "file_extension": ".py",
   "mimetype": "text/x-python",
   "name": "python",
   "nbconvert_exporter": "python",
   "pygments_lexer": "ipython3",
   "version": "3.11.7"
  },
  "widgets": {
   "application/vnd.jupyter.widget-state+json": {
    "state": {},
    "version_major": 2,
    "version_minor": 0
   }
  }
 },
 "nbformat": 4,
 "nbformat_minor": 5
}
